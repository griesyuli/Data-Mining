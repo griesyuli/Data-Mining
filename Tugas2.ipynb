{
 "cells": [
  {
   "cell_type": "markdown",
   "metadata": {},
   "source": [
    "# Tulis Jawaban pada Tempat yang Telah Disediakan"
   ]
  },
  {
   "cell_type": "markdown",
   "metadata": {},
   "source": [
    "Tugas ini menggunakan <b>ILPD (Indian Liver Patient Dataset) dataset</b> yang terdiri dari dua kelas (<i>liver</i> dan <i>non liver patient</i>). Silahkan unduh dataset tersebut pada <b>UCI Machine Learning Repository</b> \n",
    "(<i>link</i>: https://archive.ics.uci.edu/ml/datasets/ILPD+(Indian+Liver+Patient+Dataset). \n",
    "Bacalah deskripsi dataset secara detail (<i>Number of Attributes, Data Set Information, Attribute Information, etc.</i>) Jika pada data tersebut terdapat <i>missing value,</i> tangani dengan cara menghapus/menghilangkan row (datum) yang mengandung <i/> missing value.<i/> "
   ]
  },
  {
   "cell_type": "markdown",
   "metadata": {},
   "source": [
    "Jika dalam menyelesaikan tugas ini Anda berkolaborasi dengan orang lain, silahkan tuliskan dengan siapa Anda berkolaborasi (pada baris ini)!"
   ]
  },
  {
   "cell_type": "markdown",
   "metadata": {},
   "source": [
    "Kolaborator: ..."
   ]
  },
  {
   "cell_type": "markdown",
   "metadata": {},
   "source": [
    "Jika dalam menyelesaikan tugas ini, Anda menggunakan referensi dari halaman situs di internet, silahkan tuliskan link halaman situs tersebut (pada baris ini)!"
   ]
  },
  {
   "cell_type": "markdown",
   "metadata": {},
   "source": [
    "Referensi: ..."
   ]
  },
  {
   "cell_type": "markdown",
   "metadata": {},
   "source": [
    "<b>Principal Component Analysis (PCA)</b>"
   ]
  },
  {
   "cell_type": "markdown",
   "metadata": {},
   "source": [
    "1. Lakukan reduksi dimensi dari data ILDP dengan PCA secara manual (tanpa <i>library</i>) dengan ketentuan sebagai berikut:\n",
    "\n",
    "   a. Jumlah komponen harus meng-<i>capture</i> minimal 95% dari <i>total variance</i> data asli;\n",
    "    \n",
    "   b. Penggunaan <i>library</i> hanya diperbolehkan untuk perhitungan dasar seperti perhitungan <i>mean, variance</i>, dan lain-lain;\n",
    "    \n",
    "   c. Berikan penjelasan/komentar singkat dari setiap langkah yang Anda lakukan!\n",
    "   \n",
    "   \n",
    "2. Lakukan reduksi dimensi dari data ILDP dengan PCA menggunakan <i>library</i> (misal: Scikit-Learn). Pemilihan jumlah komponen harus meng-<i>capture</i> minimal 95% dari <i>total variance</i> data asli.\n",
    "\n",
    "\n",
    "3. Hitunglah Mean Squared Error (MSE) pada soal nomor (1) dan nomor (2)! Lihat <i>Example 7.4.</i> (Buku Zaki) sebagai contoh.\n",
    "\n",
    "\n",
    "4. Bandingkan hasil reduksi PCA secara manual dan PCA dengan menggunakan <i>library</i>! Apakah hasil yang diperoleh sama? Jika berbeda, apa yang menyebabkan perbedaan tersebut?\n",
    "\n",
    "\n",
    "5. Buatlah <i>scatter plot</i> dari data berikut:\n",
    "\n",
    "    a. Data asli dari dataset (pilih 2 fitur saja);\n",
    "    \n",
    "    b. Hasil reduksi yang Anda peroleh pada nomor (1), pilih 2 fitur pertama;\n",
    "    \n",
    "    c. Hasil reduksi yang Anda peroleh pada nomor (2), pilih 2 fitur pertama;\n",
    "    \n",
    "    dan berikan komentar tentang hasil <i>plotting</i> tersebut!"
   ]
  },
  {
   "cell_type": "markdown",
   "metadata": {
    "collapsed": true
   },
   "source": [
    "<b>Jawaban:<b>"
   ]
  },
  {
   "cell_type": "markdown",
   "metadata": {},
   "source": [
    "1. "
   ]
  },
  {
   "cell_type": "markdown",
   "metadata": {},
   "source": [
    "2. "
   ]
  },
  {
   "cell_type": "markdown",
   "metadata": {
    "collapsed": true
   },
   "source": [
    "3. "
   ]
  },
  {
   "cell_type": "markdown",
   "metadata": {},
   "source": [
    "4. "
   ]
  },
  {
   "cell_type": "markdown",
   "metadata": {},
   "source": [
    "5. "
   ]
  },
  {
   "cell_type": "markdown",
   "metadata": {},
   "source": [
    "<b>Linear Discriminant Analysis (LDA) </b>"
   ]
  },
  {
   "cell_type": "markdown",
   "metadata": {},
   "source": [
    "1. Lakukan analisis dari data ILDP, sampai dengan tahap memroyeksi data menjadi data baru, dengan LDA secara manual (tanpa <i>library</i>) dengan ketentuan sebagai berikut:\n",
    "\n",
    "    a. Penggunaan <i>library</i> hanya diperbolehkan untuk perhitungan dasar seperti perhitungan <i>mean, variance</i>, dan lain-lain;\n",
    "    \n",
    "    b. Berikan penjelasan/komentar singkat dari setiap langkah yang Anda lakukan!\n",
    "     \n",
    "     \n",
    "2. Lakukan analisis dari data ILDP, sampai dengan tahap memroyeksi data menjadi data baru, dengan LDA menggunakan <i>library</i>. \n",
    "\n",
    "\n",
    "3. Hitung nilai objektif Fisher untuk data asli, data hasil proyeksi dari soal nomor (1), dan soal nomor (2)! Apakah LDA meningkatkan diskriminasi antar kelas dibandingkan diskriminasi dari data asli?\n",
    "   \n",
    "   \n",
    "4. Bandingkan hasil dari LDA secara manual dan LDA dengan menggunakan <i>library</i>! Apakah hasil yang diperoleh sama? Jika berbeda, apa yang menyebabkan perbedaan tersebut?\n",
    "   \n",
    "   \n",
    "5. Buatlah <i>scatter plot</i> dari data berikut:\n",
    "\n",
    "    a. data asli dari dataset, pilih 2 fitur saja;\n",
    "    \n",
    "    b. hasil LDA yang Anda peroleh pada nomor (1), pilih 2 fitur pertama;\n",
    "    \n",
    "    c. hasil LDA yang Anda peroleh pada nomor (2), pilih 2 fitur pertama;\n",
    "    \n",
    "    dan berikan komentar tentang hasil <i>plotting</i> tersebut!"
   ]
  },
  {
   "cell_type": "markdown",
   "metadata": {},
   "source": [
    "<b>Jawaban:<b>"
   ]
  },
  {
   "cell_type": "markdown",
   "metadata": {},
   "source": [
    "1. "
   ]
  },
  {
   "cell_type": "markdown",
   "metadata": {
    "collapsed": true
   },
   "source": [
    "2. "
   ]
  },
  {
   "cell_type": "markdown",
   "metadata": {},
   "source": [
    "3. "
   ]
  },
  {
   "cell_type": "markdown",
   "metadata": {},
   "source": [
    "4. "
   ]
  },
  {
   "cell_type": "markdown",
   "metadata": {},
   "source": [
    "5."
   ]
  }
 ],
 "metadata": {
  "kernelspec": {
   "display_name": "Python 3",
   "language": "python",
   "name": "python3"
  },
  "language_info": {
   "codemirror_mode": {
    "name": "ipython",
    "version": 3
   },
   "file_extension": ".py",
   "mimetype": "text/x-python",
   "name": "python",
   "nbconvert_exporter": "python",
   "pygments_lexer": "ipython3",
   "version": "3.5.3"
  }
 },
 "nbformat": 4,
 "nbformat_minor": 2
}
